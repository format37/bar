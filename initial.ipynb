{
 "cells": [
  {
   "cell_type": "code",
   "execution_count": 22,
   "id": "ea985bc0",
   "metadata": {},
   "outputs": [],
   "source": [
    "import pandas as pd"
   ]
  },
  {
   "cell_type": "code",
   "execution_count": 27,
   "id": "df504cd9",
   "metadata": {},
   "outputs": [],
   "source": [
    "# Define the function to apply the polynomial regression equation\n",
    "def build_time_forecast(bp, m, e):\n",
    "    return (32.4090668747 \n",
    "            - 0.0000005126 * bp \n",
    "            + 0.0012623872 * m \n",
    "            - 0.0062393020 * e \n",
    "            - 0.0001947730 * bp**2 \n",
    "            - 0.0002621063 * bp * m \n",
    "            - 0.0000278516 * bp * e \n",
    "            + 0.0002574862 * m**2 \n",
    "            - 0.0000502739 * m * e \n",
    "            + 0.0000086426 * e**2)"
   ]
  },
  {
   "cell_type": "code",
   "execution_count": 30,
   "id": "3fcd2c72",
   "metadata": {},
   "outputs": [
    {
     "data": {
      "text/html": [
       "<div>\n",
       "<style scoped>\n",
       "    .dataframe tbody tr th:only-of-type {\n",
       "        vertical-align: middle;\n",
       "    }\n",
       "\n",
       "    .dataframe tbody tr th {\n",
       "        vertical-align: top;\n",
       "    }\n",
       "\n",
       "    .dataframe thead th {\n",
       "        text-align: right;\n",
       "    }\n",
       "</style>\n",
       "<table border=\"1\" class=\"dataframe\">\n",
       "  <thead>\n",
       "    <tr style=\"text-align: right;\">\n",
       "      <th></th>\n",
       "      <th>name</th>\n",
       "      <th>build_power</th>\n",
       "      <th>speed</th>\n",
       "      <th>e_storage</th>\n",
       "      <th>m_storage</th>\n",
       "      <th>e_production</th>\n",
       "      <th>m_production</th>\n",
       "      <th>m_cost</th>\n",
       "      <th>e_cost</th>\n",
       "      <th>bp300bt</th>\n",
       "      <th>bp80bt</th>\n",
       "      <th>max_count</th>\n",
       "      <th>growing</th>\n",
       "    </tr>\n",
       "  </thead>\n",
       "  <tbody>\n",
       "    <tr>\n",
       "      <th>0</th>\n",
       "      <td>initial</td>\n",
       "      <td>NaN</td>\n",
       "      <td>NaN</td>\n",
       "      <td>500.0</td>\n",
       "      <td>500.0</td>\n",
       "      <td>NaN</td>\n",
       "      <td>NaN</td>\n",
       "      <td>NaN</td>\n",
       "      <td>NaN</td>\n",
       "      <td>NaN</td>\n",
       "      <td>NaN</td>\n",
       "      <td>NaN</td>\n",
       "      <td>NaN</td>\n",
       "    </tr>\n",
       "    <tr>\n",
       "      <th>1</th>\n",
       "      <td>com</td>\n",
       "      <td>300.0</td>\n",
       "      <td>NaN</td>\n",
       "      <td>500.0</td>\n",
       "      <td>500.0</td>\n",
       "      <td>25.0</td>\n",
       "      <td>2.0</td>\n",
       "      <td>2700.0</td>\n",
       "      <td>26000.0</td>\n",
       "      <td>NaN</td>\n",
       "      <td>NaN</td>\n",
       "      <td>NaN</td>\n",
       "      <td>NaN</td>\n",
       "    </tr>\n",
       "  </tbody>\n",
       "</table>\n",
       "</div>"
      ],
      "text/plain": [
       "      name  build_power  speed  e_storage  m_storage  e_production  \\\n",
       "0  initial          NaN    NaN      500.0      500.0           NaN   \n",
       "1      com        300.0    NaN      500.0      500.0          25.0   \n",
       "\n",
       "   m_production  m_cost   e_cost  bp300bt  bp80bt  max_count  growing  \n",
       "0           NaN     NaN      NaN      NaN     NaN        NaN      NaN  \n",
       "1           2.0  2700.0  26000.0      NaN     NaN        NaN      NaN  "
      ]
     },
     "execution_count": 30,
     "metadata": {},
     "output_type": "execute_result"
    }
   ],
   "source": [
    "df = pd.read_csv('data.csv')\n",
    "df.head(2)"
   ]
  },
  {
   "cell_type": "code",
   "execution_count": 25,
   "id": "fefdad2b",
   "metadata": {},
   "outputs": [
    {
     "data": {
      "text/html": [
       "<div>\n",
       "<style scoped>\n",
       "    .dataframe tbody tr th:only-of-type {\n",
       "        vertical-align: middle;\n",
       "    }\n",
       "\n",
       "    .dataframe tbody tr th {\n",
       "        vertical-align: top;\n",
       "    }\n",
       "\n",
       "    .dataframe thead th {\n",
       "        text-align: right;\n",
       "    }\n",
       "</style>\n",
       "<table border=\"1\" class=\"dataframe\">\n",
       "  <thead>\n",
       "    <tr style=\"text-align: right;\">\n",
       "      <th></th>\n",
       "      <th>name</th>\n",
       "      <th>m_cost</th>\n",
       "      <th>e_cost</th>\n",
       "      <th>bp300bt</th>\n",
       "      <th>bp80bt</th>\n",
       "    </tr>\n",
       "  </thead>\n",
       "  <tbody>\n",
       "    <tr>\n",
       "      <th>4</th>\n",
       "      <td>solar_collector</td>\n",
       "      <td>150.0</td>\n",
       "      <td>0.0</td>\n",
       "      <td>10.0</td>\n",
       "      <td>34.0</td>\n",
       "    </tr>\n",
       "    <tr>\n",
       "      <th>5</th>\n",
       "      <td>metal_convertor</td>\n",
       "      <td>1.0</td>\n",
       "      <td>1250.0</td>\n",
       "      <td>10.0</td>\n",
       "      <td>34.0</td>\n",
       "    </tr>\n",
       "    <tr>\n",
       "      <th>6</th>\n",
       "      <td>bot_lab</td>\n",
       "      <td>620.0</td>\n",
       "      <td>1300.0</td>\n",
       "      <td>21.0</td>\n",
       "      <td>81.0</td>\n",
       "    </tr>\n",
       "    <tr>\n",
       "      <th>8</th>\n",
       "      <td>construction_turret</td>\n",
       "      <td>210.0</td>\n",
       "      <td>3200.0</td>\n",
       "      <td>18.0</td>\n",
       "      <td>66.0</td>\n",
       "    </tr>\n",
       "    <tr>\n",
       "      <th>9</th>\n",
       "      <td>solar_collector_adv</td>\n",
       "      <td>370.0</td>\n",
       "      <td>4000.0</td>\n",
       "      <td>27.0</td>\n",
       "      <td>101.0</td>\n",
       "    </tr>\n",
       "  </tbody>\n",
       "</table>\n",
       "</div>"
      ],
      "text/plain": [
       "                  name  m_cost  e_cost  bp300bt  bp80bt\n",
       "4      solar_collector   150.0     0.0     10.0    34.0\n",
       "5      metal_convertor     1.0  1250.0     10.0    34.0\n",
       "6              bot_lab   620.0  1300.0     21.0    81.0\n",
       "8  construction_turret   210.0  3200.0     18.0    66.0\n",
       "9  solar_collector_adv   370.0  4000.0     27.0   101.0"
      ]
     },
     "execution_count": 25,
     "metadata": {},
     "output_type": "execute_result"
    }
   ],
   "source": [
    "bt = df[df.bp300bt>0]\n",
    "# Columns to keep\n",
    "cols_to_keep = ['name', 'm_cost', 'e_cost','bp300bt', 'bp80bt']\n",
    "# Drop all other columns\n",
    "bt = bt.drop(columns=[col for col in bt.columns if col not in cols_to_keep])\n",
    "\n",
    "bt"
   ]
  },
  {
   "cell_type": "code",
   "execution_count": null,
   "id": "4858dc90",
   "metadata": {},
   "outputs": [],
   "source": [
    "# Apply the function to each row in the pandas DataFrame\n",
    "bt['bd_pred'] = bt.apply(\n",
    "    lambda row: build_time_forecast(row['bp'], row['m'], row['e']), axis=1\n",
    ")\n",
    "\n",
    "bt[['bp', 'm', 'e', 'time', 'bd_pred']].head(10)"
   ]
  },
  {
   "cell_type": "code",
   "execution_count": 21,
   "id": "8e37056e",
   "metadata": {},
   "outputs": [],
   "source": [
    "# bt.to_csv('bt.csv')"
   ]
  }
 ],
 "metadata": {
  "kernelspec": {
   "display_name": "Python 3 (ipykernel)",
   "language": "python",
   "name": "python3"
  },
  "language_info": {
   "codemirror_mode": {
    "name": "ipython",
    "version": 3
   },
   "file_extension": ".py",
   "mimetype": "text/x-python",
   "name": "python",
   "nbconvert_exporter": "python",
   "pygments_lexer": "ipython3",
   "version": "3.11.4"
  }
 },
 "nbformat": 4,
 "nbformat_minor": 5
}
